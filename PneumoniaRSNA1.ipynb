{
 "cells": [
  {
   "cell_type": "markdown",
   "source": [
    "## Kaggle data management api"
   ],
   "metadata": {}
  },
  {
   "cell_type": "code",
   "execution_count": 1,
   "source": [
    "# !pip install kaggle # now download the api token and store it to /home/ec2-user/.kaggle/kaggle.json\r\n",
    "# !cd /home/ec2-user/SageMaker\r\n",
    "# !mkdir /home/ec2-user/.kaggle/\r\n",
    "# !mv /home/ec2-user/SageMaker/kaggle.json /home/ec2-user/.kaggle/kaggle.json\r\n",
    "# !chmod 600 /home/ec2-user/.kaggle/kaggle.json # for privacy\r\n",
    "!df -h --total  # get the harddisk info\r\n",
    "!nvcc --version  # Get the cuda version\r\n"
   ],
   "outputs": [
    {
     "output_type": "stream",
     "name": "stdout",
     "text": [
      "Filesystem      Size  Used Avail Use% Mounted on\n",
      "devtmpfs         30G   72K   30G   1% /dev\n",
      "tmpfs            30G     0   30G   0% /dev/shm\n",
      "/dev/xvda1       94G   78G   17G  83% /\n",
      "/dev/xvdf       985G  535G  411G  57% /home/ec2-user/SageMaker\n",
      "total           1.2T  612G  487G  56% -\n",
      "nvcc: NVIDIA (R) Cuda compiler driver\n",
      "Copyright (c) 2005-2018 NVIDIA Corporation\n",
      "Built on Sat_Aug_25_21:08:01_CDT_2018\n",
      "Cuda compilation tools, release 10.0, V10.0.130\n"
     ]
    }
   ],
   "metadata": {}
  },
  {
   "cell_type": "code",
   "execution_count": 2,
   "source": [
    "# !git clone https://github.com/RamsteinWR/PneumoniaRSNA1.git\r\n",
    "# !rm -rf /home/ec2-user/SageMaker/PneumoniaRSNA1"
   ],
   "outputs": [],
   "metadata": {}
  },
  {
   "cell_type": "code",
   "execution_count": 3,
   "source": [
    "%%time\r\n",
    "import os\r\n",
    "os.chdir(\"/home/ec2-user/SageMaker\")\r\n",
    "\r\n",
    "# Download the challenge data here \r\n",
    "# !kaggle competitions download -c rsna-pneumonia-detection-challenge\r\n",
    "# !unzip -o -q /home/ec2-user/SageMaker/rsna-pneumonia-detection-challenge.zip -d /home/ec2-user/SageMaker/PneumoniaData  #-q for quitely no verbose\r\n",
    "# !rm -rf /home/ec2-user/SageMaker/rsna-pneumonia-detection-challenge.zip"
   ],
   "outputs": [
    {
     "output_type": "stream",
     "name": "stdout",
     "text": [
      "CPU times: user 49 µs, sys: 0 ns, total: 49 µs\n",
      "Wall time: 54.1 µs\n"
     ]
    }
   ],
   "metadata": {}
  },
  {
   "cell_type": "code",
   "execution_count": 5,
   "source": [
    "# !mv /home/ec2-user/SageMaker/PneumoniaData/stage_2_detailed_class_info.csv /home/ec2-user/SageMaker/PneumoniaData/detailed_class_info.csv\r\n",
    "# !mv /home/ec2-user/SageMaker/PneumoniaData/stage_2_train_labels.csv /home/ec2-user/SageMaker/PneumoniaData/train_labels.csv\r\n",
    "# !mv /home/ec2-user/SageMaker/PneumoniaData/stage_2_train_images /home/ec2-user/SageMaker/PneumoniaData/train_dicoms\r\n",
    "# !mv /home/ec2-user/SageMaker/PneumoniaData/stage_2_test_images /home/ec2-user/SageMaker/PneumoniaData/test_dicoms"
   ],
   "outputs": [],
   "metadata": {}
  },
  {
   "cell_type": "markdown",
   "source": [
    "## Preprocessing the authenication management"
   ],
   "metadata": {}
  },
  {
   "cell_type": "code",
   "execution_count": 4,
   "source": [
    "%%time\r\n",
    "import boto3\r\n",
    "import botocore\r\n",
    "from botocore.exceptions import ClientError\r\n",
    "from tqdm import tqdm\r\n",
    "import os \r\n",
    "import urllib.request\r\n",
    "import re\r\n",
    "import sagemaker\r\n",
    "from sagemaker import get_execution_role\r\n",
    "from sagemaker.amazon.amazon_estimator import get_image_uri\r\n",
    "\r\n",
    "role = get_execution_role()\r\n",
    "\r\n",
    "bucket = \"brain-imaging-intracranial-hemorrhage\"\r\n",
    "region_name=\"us-east-1\"\r\n",
    "aws_access_key_id = \"hfaisdufhiu\"\r\n",
    "aws_secret_access_key = \"fudshfuh\"\r\n",
    "\r\n",
    "training_image = get_image_uri(boto3.Session().region_name, 'image-classification')\r\n",
    "\r\n",
    "def download(url):\r\n",
    "    filename = url.split(\"/\")[-1]\r\n",
    "    if not os.path.exists(filename):\r\n",
    "        urllib.request.urlretrieve(url, filename)\r\n",
    "\r\n",
    "def upload_to_s3(channel, file):\r\n",
    "    s3 = boto3.resource('s3',\r\n",
    "                             region_name=region_name,\r\n",
    "                             aws_access_key_id=aws_access_key_id,\r\n",
    "                             aws_secret_access_key=aws_secret_access_key)    \r\n",
    "    data = open(file, \"rb\")\r\n",
    "    key = channel + '/' + file\r\n",
    "    print(\"Uploading file {} to s3://{}/{}\".format(file, bucket, channel))\r\n",
    "    s3.Bucket(bucket).put_object(Key=key, Body=data)\r\n",
    "\r\n",
    "def upload_dir_to_s3(bucket, s3_folder, dir_to_upload):\r\n",
    "    s3_client = boto3.client('s3',\r\n",
    "                             region_name=region_name,\r\n",
    "                             aws_access_key_id=aws_access_key_id,\r\n",
    "                             aws_secret_access_key=aws_secret_access_key)\r\n",
    "    print(\"Uploading {} to s3://{}/{}\".format(dir_to_upload, bucket, s3_folder))\r\n",
    "    # enumerate local files recursively\r\n",
    "    for root, dirs, files in os.walk(dir_to_upload):\r\n",
    "        for filename in tqdm(files):\r\n",
    "            # construct the full local path\r\n",
    "            local_path = os.path.join(root, filename)\r\n",
    "            # construct the full Dropbox path\r\n",
    "            relative_path = os.path.relpath(local_path, dir_to_upload)\r\n",
    "            s3_path = os.path.join(s3_folder, relative_path).replace(\"\\\\\", \"/\")\r\n",
    "            try:\r\n",
    "                s3_client.head_object(Bucket=bucket, Key=s3_path)\r\n",
    "                print(\"Path found on S3! Deleting %s...\" % s3_path)\r\n",
    "                try:\r\n",
    "                    s3_client.delete_object(Bucket=bucket, Key=s3_path)\r\n",
    "                    try:\r\n",
    "#                         print(\"Uploading {} to s3://{}/{}\".format(dir_to_upload, bucket, s3_path)\r\n",
    "                        s3_client.upload_file(local_path, Bucket=bucket, Key=s3_path)\r\n",
    "                    except ClientError as e:\r\n",
    "                        logging.error(e)\r\n",
    "                except:\r\n",
    "                    print(\"Unable to delete from s3 %s...\" % s3_path)\r\n",
    "            except:\r\n",
    "                try:\r\n",
    "                    s3_client.upload_file(local_path, Bucket=bucket, Key=s3_path)\r\n",
    "                except ClientError as e:\r\n",
    "                    logging.error(e)\r\n",
    "    print(\"Upload completed successfully.\")\r\n",
    "    \r\n",
    "def download_dir(s3_folder, local_path, bucket=\"\"):\r\n",
    "    \"\"\"\r\n",
    "    params:\r\n",
    "    - s3_folder: pattern to match in s3\r\n",
    "    - local_path: local_path path to folder in which to place files\r\n",
    "    - bucket: s3 bucket with target contents\r\n",
    "    - client: initialized s3 client object\r\n",
    "    \"\"\"\r\n",
    "    client = boto3.client('s3', region_name=region_name)\r\n",
    "    keys = []\r\n",
    "    dirs = []\r\n",
    "    next_token = ''\r\n",
    "    base_kwargs = {\r\n",
    "        'Bucket': bucket,\r\n",
    "        'Prefix': s3_folder,\r\n",
    "    }\r\n",
    "    while next_token is not None:\r\n",
    "        kwargs = base_kwargs.copy()\r\n",
    "        if next_token != '':\r\n",
    "            kwargs.update({'ContinuationToken': next_token})\r\n",
    "        results = client.list_objects_v2(**kwargs)\r\n",
    "        contents = results.get('Contents')\r\n",
    "        for i in contents:\r\n",
    "            k = i.get('Key')\r\n",
    "            if k[-1] != '/':\r\n",
    "                keys.append(k)\r\n",
    "            else:\r\n",
    "                dirs.append(k)\r\n",
    "        next_token = results.get('NextContinuationToken')\r\n",
    "    for d in dirs:\r\n",
    "        dest_pathname = os.path.join(local_path, d)\r\n",
    "        if not os.path.exists(os.path.dirname(dest_pathname)):\r\n",
    "            os.makedirs(os.path.dirname(dest_pathname))\r\n",
    "    print(\"{} files found in {} directories. Downloading now...\".format(len(keys), len(dirs)))\r\n",
    "    for k in tqdm(keys):\r\n",
    "        dest_pathname = os.path.join(local_path, k)\r\n",
    "        if not os.path.exists(os.path.dirname(dest_pathname)):\r\n",
    "            os.makedirs(os.path.dirname(dest_pathname))\r\n",
    "        try:\r\n",
    "#             print(\"Downloading {}\".format(dest_pathname))\r\n",
    "            client.download_file(bucket, k, dest_pathname)\r\n",
    "        except botocore.exceptions.ClientError as e:\r\n",
    "            if e.response['Error']['Code'] == \"404\":\r\n",
    "                print(\"The object does not exist.\")\r\n",
    "            else:\r\n",
    "                raise\r\n",
    "    print(\"{} files downloaded successfully.\".format(len(keys)))\r\n",
    "    \r\n",
    "# download('http://data.lip6.fr/cadene/pretrained/home/ec2-user/SageMaker/rsna19/models/se_resnext50_32x4d-a260b3a4.pth')\r\n",
    "# upload_to_s3(\"pretrained\", 'se_resnext50_32x4d-a260b3a4.pth')\r\n",
    "# upload_dir_to_s3(bucket=bucket, s3_folder='aptos-2019', dir_to_upload=\"/home/ec2-user/SageMaker/data\")\r\n",
    "\r\n",
    "# download_dir(s3_folder='aptos-2015/train_images_768/', local_path='/home/ec2-user/SageMaker/data/aptos-2015/train_images_768/', bucket=bucket)"
   ],
   "outputs": [
    {
     "output_type": "stream",
     "name": "stderr",
     "text": [
      "The method get_image_uri has been renamed in sagemaker>=2.\n",
      "See: https://sagemaker.readthedocs.io/en/stable/v2.html for details.\n",
      "Defaulting to the only supported framework/algorithm version: 1. Ignoring framework/algorithm version: 1.\n"
     ]
    },
    {
     "output_type": "stream",
     "name": "stdout",
     "text": [
      "CPU times: user 1.07 s, sys: 517 ms, total: 1.59 s\n",
      "Wall time: 1.87 s\n"
     ]
    }
   ],
   "metadata": {}
  },
  {
   "cell_type": "markdown",
   "source": [
    "## Uploading files to s3"
   ],
   "metadata": {}
  },
  {
   "cell_type": "markdown",
   "source": [
    "<a id='idg4c.1'></a>\n",
    "## Dependencies\n",
    "___\n",
    "### import packages and check SageMaker version"
   ],
   "metadata": {}
  },
  {
   "cell_type": "code",
   "execution_count": 5,
   "source": [
    "!pip install -r /home/ec2-user/SageMaker/PneumoniaRSNA1/requirements.txt\n",
    "# !pip install tensorflow --upgrade --force-reinstall"
   ],
   "outputs": [
    {
     "output_type": "stream",
     "name": "stdout",
     "text": [
      "Requirement already satisfied: numpy==1.18.5 in /home/ec2-user/anaconda3/envs/tensorflow2_p36/lib/python3.6/site-packages (from -r /home/ec2-user/SageMaker/PneumoniaRSNA1/requirements.txt (line 4)) (1.18.5)\n",
      "Collecting easydict==1.9\n",
      "  Using cached easydict-1.9-py3-none-any.whl\n",
      "Collecting keras==2.2.0\n",
      "  Using cached Keras-2.2.0-py2.py3-none-any.whl (300 kB)\n",
      "Requirement already satisfied: numpy==1.18.5 in /home/ec2-user/anaconda3/envs/tensorflow2_p36/lib/python3.6/site-packages (from -r /home/ec2-user/SageMaker/PneumoniaRSNA1/requirements.txt (line 4)) (1.18.5)\n",
      "Requirement already satisfied: six>=1.9.0 in /home/ec2-user/anaconda3/envs/tensorflow2_p36/lib/python3.6/site-packages (from keras==2.2.0->-r /home/ec2-user/SageMaker/PneumoniaRSNA1/requirements.txt (line 1)) (1.15.0)\n",
      "Requirement already satisfied: pyyaml in /home/ec2-user/anaconda3/envs/tensorflow2_p36/lib/python3.6/site-packages (from keras==2.2.0->-r /home/ec2-user/SageMaker/PneumoniaRSNA1/requirements.txt (line 1)) (5.3.1)\n",
      "Requirement already satisfied: h5py in /home/ec2-user/anaconda3/envs/tensorflow2_p36/lib/python3.6/site-packages (from keras==2.2.0->-r /home/ec2-user/SageMaker/PneumoniaRSNA1/requirements.txt (line 1)) (2.10.0)\n",
      "Collecting mxnet-cu100\n",
      "  Using cached mxnet_cu100-1.7.0-py2.py3-none-manylinux2014_x86_64.whl (827.8 MB)\n",
      "Requirement already satisfied: requests<3,>=2.20.0 in /home/ec2-user/anaconda3/envs/tensorflow2_p36/lib/python3.6/site-packages (from mxnet-cu100->-r /home/ec2-user/SageMaker/PneumoniaRSNA1/requirements.txt (line 13)) (2.25.0)\n",
      "Requirement already satisfied: numpy==1.18.5 in /home/ec2-user/anaconda3/envs/tensorflow2_p36/lib/python3.6/site-packages (from -r /home/ec2-user/SageMaker/PneumoniaRSNA1/requirements.txt (line 4)) (1.18.5)\n",
      "Collecting networkx==2.5\n",
      "  Using cached networkx-2.5-py3-none-any.whl (1.6 MB)\n",
      "Requirement already satisfied: decorator>=4.3.0 in /home/ec2-user/anaconda3/envs/tensorflow2_p36/lib/python3.6/site-packages (from networkx==2.5->-r /home/ec2-user/SageMaker/PneumoniaRSNA1/requirements.txt (line 12)) (4.4.1)\n",
      "Collecting opencv-python==3.4.1.15\n",
      "  Using cached opencv_python-3.4.1.15-cp36-cp36m-manylinux1_x86_64.whl (24.9 MB)\n",
      "Requirement already satisfied: numpy==1.18.5 in /home/ec2-user/anaconda3/envs/tensorflow2_p36/lib/python3.6/site-packages (from -r /home/ec2-user/SageMaker/PneumoniaRSNA1/requirements.txt (line 4)) (1.18.5)\n",
      "Collecting pandas==0.23.4\n",
      "  Using cached pandas-0.23.4-cp36-cp36m-manylinux1_x86_64.whl (8.9 MB)\n",
      "Requirement already satisfied: pytz>=2011k in /home/ec2-user/anaconda3/envs/tensorflow2_p36/lib/python3.6/site-packages (from pandas==0.23.4->-r /home/ec2-user/SageMaker/PneumoniaRSNA1/requirements.txt (line 3)) (2019.3)\n",
      "Requirement already satisfied: numpy==1.18.5 in /home/ec2-user/anaconda3/envs/tensorflow2_p36/lib/python3.6/site-packages (from -r /home/ec2-user/SageMaker/PneumoniaRSNA1/requirements.txt (line 4)) (1.18.5)\n",
      "Requirement already satisfied: python-dateutil>=2.5.0 in /home/ec2-user/anaconda3/envs/tensorflow2_p36/lib/python3.6/site-packages (from pandas==0.23.4->-r /home/ec2-user/SageMaker/PneumoniaRSNA1/requirements.txt (line 3)) (2.8.1)\n",
      "Collecting pillow==5.0.0\n",
      "  Using cached Pillow-5.0.0-cp36-cp36m-manylinux1_x86_64.whl (5.9 MB)\n",
      "Collecting pydicom==1.2.0\n",
      "  Using cached pydicom-1.2.0-py2.py3-none-any.whl (7.3 MB)\n",
      "Collecting pytest==6.2.1\n",
      "  Using cached pytest-6.2.1-py3-none-any.whl (279 kB)\n",
      "Requirement already satisfied: attrs>=19.2.0 in /home/ec2-user/anaconda3/envs/tensorflow2_p36/lib/python3.6/site-packages (from pytest==6.2.1->-r /home/ec2-user/SageMaker/PneumoniaRSNA1/requirements.txt (line 11)) (20.3.0)\n",
      "Requirement already satisfied: importlib-metadata>=0.12 in /home/ec2-user/anaconda3/envs/tensorflow2_p36/lib/python3.6/site-packages (from pytest==6.2.1->-r /home/ec2-user/SageMaker/PneumoniaRSNA1/requirements.txt (line 11)) (3.1.0)\n",
      "Requirement already satisfied: packaging in /home/ec2-user/anaconda3/envs/tensorflow2_p36/lib/python3.6/site-packages (from pytest==6.2.1->-r /home/ec2-user/SageMaker/PneumoniaRSNA1/requirements.txt (line 11)) (20.7)\n",
      "Requirement already satisfied: toml in /home/ec2-user/anaconda3/envs/tensorflow2_p36/lib/python3.6/site-packages (from pytest==6.2.1->-r /home/ec2-user/SageMaker/PneumoniaRSNA1/requirements.txt (line 11)) (0.10.2)\n",
      "Requirement already satisfied: pluggy<1.0.0a1,>=0.12 in /home/ec2-user/anaconda3/envs/tensorflow2_p36/lib/python3.6/site-packages (from pytest==6.2.1->-r /home/ec2-user/SageMaker/PneumoniaRSNA1/requirements.txt (line 11)) (0.13.1)\n",
      "Collecting scikit-image==0.14.1\n",
      "  Using cached scikit_image-0.14.1-cp36-cp36m-manylinux1_x86_64.whl (25.3 MB)\n",
      "Requirement already satisfied: matplotlib>=2.0.0 in /home/ec2-user/anaconda3/envs/tensorflow2_p36/lib/python3.6/site-packages (from scikit-image==0.14.1->-r /home/ec2-user/SageMaker/PneumoniaRSNA1/requirements.txt (line 5)) (3.1.3)\n",
      "Requirement already satisfied: dask[array]>=0.9.0 in /home/ec2-user/anaconda3/envs/tensorflow2_p36/lib/python3.6/site-packages (from scikit-image==0.14.1->-r /home/ec2-user/SageMaker/PneumoniaRSNA1/requirements.txt (line 5)) (2.11.0)\n",
      "Requirement already satisfied: cloudpickle>=0.2.1 in /home/ec2-user/anaconda3/envs/tensorflow2_p36/lib/python3.6/site-packages (from scikit-image==0.14.1->-r /home/ec2-user/SageMaker/PneumoniaRSNA1/requirements.txt (line 5)) (1.3.0)\n",
      "Requirement already satisfied: six>=1.9.0 in /home/ec2-user/anaconda3/envs/tensorflow2_p36/lib/python3.6/site-packages (from keras==2.2.0->-r /home/ec2-user/SageMaker/PneumoniaRSNA1/requirements.txt (line 1)) (1.15.0)\n",
      "Requirement already satisfied: PyWavelets>=0.4.0 in /home/ec2-user/anaconda3/envs/tensorflow2_p36/lib/python3.6/site-packages (from scikit-image==0.14.1->-r /home/ec2-user/SageMaker/PneumoniaRSNA1/requirements.txt (line 5)) (1.1.1)\n",
      "Collecting scikit-learn==0.20.0\n",
      "  Using cached scikit_learn-0.20.0-cp36-cp36m-manylinux1_x86_64.whl (5.3 MB)\n",
      "Requirement already satisfied: numpy==1.18.5 in /home/ec2-user/anaconda3/envs/tensorflow2_p36/lib/python3.6/site-packages (from -r /home/ec2-user/SageMaker/PneumoniaRSNA1/requirements.txt (line 4)) (1.18.5)\n",
      "Collecting scipy==1.1.0\n",
      "  Using cached scipy-1.1.0-cp36-cp36m-manylinux1_x86_64.whl (31.2 MB)\n",
      "Requirement already satisfied: numpy==1.18.5 in /home/ec2-user/anaconda3/envs/tensorflow2_p36/lib/python3.6/site-packages (from -r /home/ec2-user/SageMaker/PneumoniaRSNA1/requirements.txt (line 4)) (1.18.5)\n",
      "Collecting tensorflow-gpu==1.4.0\n",
      "  Using cached tensorflow_gpu-1.4.0-cp36-cp36m-manylinux1_x86_64.whl (170.3 MB)\n",
      "Requirement already satisfied: numpy==1.18.5 in /home/ec2-user/anaconda3/envs/tensorflow2_p36/lib/python3.6/site-packages (from -r /home/ec2-user/SageMaker/PneumoniaRSNA1/requirements.txt (line 4)) (1.18.5)\n",
      "Requirement already satisfied: protobuf>=3.3.0 in /home/ec2-user/anaconda3/envs/tensorflow2_p36/lib/python3.6/site-packages (from tensorflow-gpu==1.4.0->-r /home/ec2-user/SageMaker/PneumoniaRSNA1/requirements.txt (line 2)) (3.14.0)\n",
      "Requirement already satisfied: wheel>=0.26 in /home/ec2-user/anaconda3/envs/tensorflow2_p36/lib/python3.6/site-packages (from tensorflow-gpu==1.4.0->-r /home/ec2-user/SageMaker/PneumoniaRSNA1/requirements.txt (line 2)) (0.34.2)\n",
      "Requirement already satisfied: six>=1.9.0 in /home/ec2-user/anaconda3/envs/tensorflow2_p36/lib/python3.6/site-packages (from keras==2.2.0->-r /home/ec2-user/SageMaker/PneumoniaRSNA1/requirements.txt (line 1)) (1.15.0)\n",
      "Collecting toposort==1.6\n",
      "  Using cached toposort-1.6-py2.py3-none-any.whl (9.5 kB)\n",
      "Requirement already satisfied: numpy==1.18.5 in /home/ec2-user/anaconda3/envs/tensorflow2_p36/lib/python3.6/site-packages (from -r /home/ec2-user/SageMaker/PneumoniaRSNA1/requirements.txt (line 4)) (1.18.5)\n",
      "Requirement already satisfied: toolz>=0.7.3 in /home/ec2-user/anaconda3/envs/tensorflow2_p36/lib/python3.6/site-packages (from dask[array]>=0.9.0->scikit-image==0.14.1->-r /home/ec2-user/SageMaker/PneumoniaRSNA1/requirements.txt (line 5)) (0.10.0)\n",
      "Collecting enum34>=1.1.6\n",
      "  Using cached enum34-1.1.10-py3-none-any.whl (11 kB)\n",
      "Collecting graphviz<0.9.0,>=0.8.1\n",
      "  Using cached graphviz-0.8.4-py2.py3-none-any.whl (16 kB)\n",
      "Requirement already satisfied: numpy==1.18.5 in /home/ec2-user/anaconda3/envs/tensorflow2_p36/lib/python3.6/site-packages (from -r /home/ec2-user/SageMaker/PneumoniaRSNA1/requirements.txt (line 4)) (1.18.5)\n",
      "Requirement already satisfied: six>=1.9.0 in /home/ec2-user/anaconda3/envs/tensorflow2_p36/lib/python3.6/site-packages (from keras==2.2.0->-r /home/ec2-user/SageMaker/PneumoniaRSNA1/requirements.txt (line 1)) (1.15.0)\n",
      "Requirement already satisfied: zipp>=0.5 in /home/ec2-user/anaconda3/envs/tensorflow2_p36/lib/python3.6/site-packages (from importlib-metadata>=0.12->pytest==6.2.1->-r /home/ec2-user/SageMaker/PneumoniaRSNA1/requirements.txt (line 11)) (3.4.0)\n",
      "Collecting iniconfig\n",
      "  Using cached iniconfig-1.1.1-py2.py3-none-any.whl (5.0 kB)\n",
      "Collecting keras-applications==1.0.2\n",
      "  Using cached Keras_Applications-1.0.2-py2.py3-none-any.whl (43 kB)\n",
      "Requirement already satisfied: numpy==1.18.5 in /home/ec2-user/anaconda3/envs/tensorflow2_p36/lib/python3.6/site-packages (from -r /home/ec2-user/SageMaker/PneumoniaRSNA1/requirements.txt (line 4)) (1.18.5)\n",
      "Requirement already satisfied: h5py in /home/ec2-user/anaconda3/envs/tensorflow2_p36/lib/python3.6/site-packages (from keras==2.2.0->-r /home/ec2-user/SageMaker/PneumoniaRSNA1/requirements.txt (line 1)) (2.10.0)\n",
      "Collecting keras-preprocessing==1.0.1\n",
      "  Using cached Keras_Preprocessing-1.0.1-py2.py3-none-any.whl (26 kB)\n",
      "Requirement already satisfied: numpy==1.18.5 in /home/ec2-user/anaconda3/envs/tensorflow2_p36/lib/python3.6/site-packages (from -r /home/ec2-user/SageMaker/PneumoniaRSNA1/requirements.txt (line 4)) (1.18.5)\n",
      "Requirement already satisfied: six>=1.9.0 in /home/ec2-user/anaconda3/envs/tensorflow2_p36/lib/python3.6/site-packages (from keras==2.2.0->-r /home/ec2-user/SageMaker/PneumoniaRSNA1/requirements.txt (line 1)) (1.15.0)\n",
      "Requirement already satisfied: python-dateutil>=2.5.0 in /home/ec2-user/anaconda3/envs/tensorflow2_p36/lib/python3.6/site-packages (from pandas==0.23.4->-r /home/ec2-user/SageMaker/PneumoniaRSNA1/requirements.txt (line 3)) (2.8.1)\n",
      "Requirement already satisfied: kiwisolver>=1.0.1 in /home/ec2-user/anaconda3/envs/tensorflow2_p36/lib/python3.6/site-packages (from matplotlib>=2.0.0->scikit-image==0.14.1->-r /home/ec2-user/SageMaker/PneumoniaRSNA1/requirements.txt (line 5)) (1.1.0)\n",
      "Requirement already satisfied: cycler>=0.10 in /home/ec2-user/anaconda3/envs/tensorflow2_p36/lib/python3.6/site-packages (from matplotlib>=2.0.0->scikit-image==0.14.1->-r /home/ec2-user/SageMaker/PneumoniaRSNA1/requirements.txt (line 5)) (0.10.0)\n",
      "Requirement already satisfied: pyparsing!=2.0.4,!=2.1.2,!=2.1.6,>=2.0.1 in /home/ec2-user/anaconda3/envs/tensorflow2_p36/lib/python3.6/site-packages (from matplotlib>=2.0.0->scikit-image==0.14.1->-r /home/ec2-user/SageMaker/PneumoniaRSNA1/requirements.txt (line 5)) (2.4.7)\n",
      "Requirement already satisfied: numpy==1.18.5 in /home/ec2-user/anaconda3/envs/tensorflow2_p36/lib/python3.6/site-packages (from -r /home/ec2-user/SageMaker/PneumoniaRSNA1/requirements.txt (line 4)) (1.18.5)\n",
      "Requirement already satisfied: six>=1.9.0 in /home/ec2-user/anaconda3/envs/tensorflow2_p36/lib/python3.6/site-packages (from keras==2.2.0->-r /home/ec2-user/SageMaker/PneumoniaRSNA1/requirements.txt (line 1)) (1.15.0)\n",
      "Requirement already satisfied: setuptools in /home/ec2-user/anaconda3/envs/tensorflow2_p36/lib/python3.6/site-packages (from kiwisolver>=1.0.1->matplotlib>=2.0.0->scikit-image==0.14.1->-r /home/ec2-user/SageMaker/PneumoniaRSNA1/requirements.txt (line 5)) (45.2.0.post20200210)\n",
      "Requirement already satisfied: pyparsing!=2.0.4,!=2.1.2,!=2.1.6,>=2.0.1 in /home/ec2-user/anaconda3/envs/tensorflow2_p36/lib/python3.6/site-packages (from matplotlib>=2.0.0->scikit-image==0.14.1->-r /home/ec2-user/SageMaker/PneumoniaRSNA1/requirements.txt (line 5)) (2.4.7)\n",
      "Requirement already satisfied: importlib-metadata>=0.12 in /home/ec2-user/anaconda3/envs/tensorflow2_p36/lib/python3.6/site-packages (from pytest==6.2.1->-r /home/ec2-user/SageMaker/PneumoniaRSNA1/requirements.txt (line 11)) (3.1.0)\n",
      "Requirement already satisfied: six>=1.9.0 in /home/ec2-user/anaconda3/envs/tensorflow2_p36/lib/python3.6/site-packages (from keras==2.2.0->-r /home/ec2-user/SageMaker/PneumoniaRSNA1/requirements.txt (line 1)) (1.15.0)\n",
      "Collecting py>=1.8.2\n",
      "  Using cached py-1.10.0-py2.py3-none-any.whl (97 kB)\n",
      "Requirement already satisfied: six>=1.9.0 in /home/ec2-user/anaconda3/envs/tensorflow2_p36/lib/python3.6/site-packages (from keras==2.2.0->-r /home/ec2-user/SageMaker/PneumoniaRSNA1/requirements.txt (line 1)) (1.15.0)\n",
      "Requirement already satisfied: numpy==1.18.5 in /home/ec2-user/anaconda3/envs/tensorflow2_p36/lib/python3.6/site-packages (from -r /home/ec2-user/SageMaker/PneumoniaRSNA1/requirements.txt (line 4)) (1.18.5)\n",
      "Requirement already satisfied: certifi>=2017.4.17 in /home/ec2-user/anaconda3/envs/tensorflow2_p36/lib/python3.6/site-packages (from requests<3,>=2.20.0->mxnet-cu100->-r /home/ec2-user/SageMaker/PneumoniaRSNA1/requirements.txt (line 13)) (2020.11.8)\n",
      "Requirement already satisfied: urllib3<1.27,>=1.21.1 in /home/ec2-user/anaconda3/envs/tensorflow2_p36/lib/python3.6/site-packages (from requests<3,>=2.20.0->mxnet-cu100->-r /home/ec2-user/SageMaker/PneumoniaRSNA1/requirements.txt (line 13)) (1.25.11)\n",
      "Requirement already satisfied: chardet<4,>=3.0.2 in /home/ec2-user/anaconda3/envs/tensorflow2_p36/lib/python3.6/site-packages (from requests<3,>=2.20.0->mxnet-cu100->-r /home/ec2-user/SageMaker/PneumoniaRSNA1/requirements.txt (line 13)) (3.0.4)\n",
      "Requirement already satisfied: idna<3,>=2.5 in /home/ec2-user/anaconda3/envs/tensorflow2_p36/lib/python3.6/site-packages (from requests<3,>=2.20.0->mxnet-cu100->-r /home/ec2-user/SageMaker/PneumoniaRSNA1/requirements.txt (line 13)) (2.10)\n",
      "Collecting tensorflow-tensorboard<0.5.0,>=0.4.0rc1\n",
      "  Using cached tensorflow_tensorboard-0.4.0-py3-none-any.whl (1.7 MB)\n",
      "Requirement already satisfied: markdown>=2.6.8 in /home/ec2-user/anaconda3/envs/tensorflow2_p36/lib/python3.6/site-packages (from tensorflow-tensorboard<0.5.0,>=0.4.0rc1->tensorflow-gpu==1.4.0->-r /home/ec2-user/SageMaker/PneumoniaRSNA1/requirements.txt (line 2)) (3.3.3)\n",
      "Requirement already satisfied: protobuf>=3.3.0 in /home/ec2-user/anaconda3/envs/tensorflow2_p36/lib/python3.6/site-packages (from tensorflow-gpu==1.4.0->-r /home/ec2-user/SageMaker/PneumoniaRSNA1/requirements.txt (line 2)) (3.14.0)\n",
      "Requirement already satisfied: werkzeug>=0.11.10 in /home/ec2-user/anaconda3/envs/tensorflow2_p36/lib/python3.6/site-packages (from tensorflow-tensorboard<0.5.0,>=0.4.0rc1->tensorflow-gpu==1.4.0->-r /home/ec2-user/SageMaker/PneumoniaRSNA1/requirements.txt (line 2)) (1.0.0)\n",
      "Requirement already satisfied: numpy==1.18.5 in /home/ec2-user/anaconda3/envs/tensorflow2_p36/lib/python3.6/site-packages (from -r /home/ec2-user/SageMaker/PneumoniaRSNA1/requirements.txt (line 4)) (1.18.5)\n",
      "Requirement already satisfied: six>=1.9.0 in /home/ec2-user/anaconda3/envs/tensorflow2_p36/lib/python3.6/site-packages (from keras==2.2.0->-r /home/ec2-user/SageMaker/PneumoniaRSNA1/requirements.txt (line 1)) (1.15.0)\n",
      "Requirement already satisfied: wheel>=0.26 in /home/ec2-user/anaconda3/envs/tensorflow2_p36/lib/python3.6/site-packages (from tensorflow-gpu==1.4.0->-r /home/ec2-user/SageMaker/PneumoniaRSNA1/requirements.txt (line 2)) (0.34.2)\n",
      "Collecting bleach==1.5.0\n",
      "  Using cached bleach-1.5.0-py2.py3-none-any.whl (17 kB)\n",
      "Requirement already satisfied: six>=1.9.0 in /home/ec2-user/anaconda3/envs/tensorflow2_p36/lib/python3.6/site-packages (from keras==2.2.0->-r /home/ec2-user/SageMaker/PneumoniaRSNA1/requirements.txt (line 1)) (1.15.0)\n",
      "Collecting html5lib==0.9999999\n",
      "  Using cached html5lib-0.9999999-py3-none-any.whl\n",
      "Requirement already satisfied: six>=1.9.0 in /home/ec2-user/anaconda3/envs/tensorflow2_p36/lib/python3.6/site-packages (from keras==2.2.0->-r /home/ec2-user/SageMaker/PneumoniaRSNA1/requirements.txt (line 1)) (1.15.0)\n",
      "Requirement already satisfied: importlib-metadata>=0.12 in /home/ec2-user/anaconda3/envs/tensorflow2_p36/lib/python3.6/site-packages (from pytest==6.2.1->-r /home/ec2-user/SageMaker/PneumoniaRSNA1/requirements.txt (line 11)) (3.1.0)\n",
      "Installing collected packages: html5lib, scipy, bleach, tensorflow-tensorboard, py, pillow, networkx, keras-preprocessing, keras-applications, iniconfig, graphviz, enum34, toposort, tensorflow-gpu, scikit-learn, scikit-image, pytest, pydicom, pandas, opencv-python, mxnet-cu100, keras, easydict\n",
      "  Attempting uninstall: html5lib\n",
      "    Found existing installation: html5lib 1.0.1\n",
      "    Uninstalling html5lib-1.0.1:\n",
      "      Successfully uninstalled html5lib-1.0.1\n",
      "  Attempting uninstall: scipy\n",
      "    Found existing installation: scipy 1.4.1\n",
      "    Uninstalling scipy-1.4.1:\n",
      "      Successfully uninstalled scipy-1.4.1\n",
      "  Attempting uninstall: bleach\n",
      "    Found existing installation: bleach 3.2.1\n",
      "    Uninstalling bleach-3.2.1:\n",
      "      Successfully uninstalled bleach-3.2.1\n",
      "  Attempting uninstall: py\n",
      "    Found existing installation: py 1.8.1\n",
      "    Uninstalling py-1.8.1:\n",
      "      Successfully uninstalled py-1.8.1\n",
      "  Attempting uninstall: pillow\n",
      "    Found existing installation: Pillow 7.0.0\n",
      "    Uninstalling Pillow-7.0.0:\n",
      "      Successfully uninstalled Pillow-7.0.0\n",
      "  Attempting uninstall: networkx\n",
      "    Found existing installation: networkx 2.4\n",
      "    Uninstalling networkx-2.4:\n",
      "      Successfully uninstalled networkx-2.4\n",
      "  Attempting uninstall: keras-preprocessing\n",
      "    Found existing installation: Keras-Preprocessing 1.1.0\n",
      "    Uninstalling Keras-Preprocessing-1.1.0:\n",
      "      Successfully uninstalled Keras-Preprocessing-1.1.0\n",
      "  Attempting uninstall: keras-applications\n",
      "    Found existing installation: Keras-Applications 1.0.8\n",
      "    Uninstalling Keras-Applications-1.0.8:\n",
      "      Successfully uninstalled Keras-Applications-1.0.8\n",
      "  Attempting uninstall: tensorflow-gpu\n",
      "    Found existing installation: tensorflow-gpu 2.1.2\n",
      "    Uninstalling tensorflow-gpu-2.1.2:\n",
      "      Successfully uninstalled tensorflow-gpu-2.1.2\n",
      "  Attempting uninstall: scikit-learn\n",
      "    Found existing installation: scikit-learn 0.22.1\n",
      "    Uninstalling scikit-learn-0.22.1:\n",
      "      Successfully uninstalled scikit-learn-0.22.1\n",
      "  Attempting uninstall: scikit-image\n",
      "    Found existing installation: scikit-image 0.16.2\n",
      "    Uninstalling scikit-image-0.16.2:\n",
      "      Successfully uninstalled scikit-image-0.16.2\n",
      "  Attempting uninstall: pytest\n",
      "    Found existing installation: pytest 5.3.5\n",
      "    Uninstalling pytest-5.3.5:\n",
      "      Successfully uninstalled pytest-5.3.5\n",
      "  Attempting uninstall: pandas\n",
      "    Found existing installation: pandas 1.0.1\n",
      "    Uninstalling pandas-1.0.1:\n",
      "      Successfully uninstalled pandas-1.0.1\n",
      "  Attempting uninstall: opencv-python\n",
      "    Found existing installation: opencv-python 4.2.0.32\n",
      "    Uninstalling opencv-python-4.2.0.32:\n",
      "      Successfully uninstalled opencv-python-4.2.0.32\n",
      "  Attempting uninstall: keras\n",
      "    Found existing installation: Keras 2.3.0\n",
      "    Uninstalling Keras-2.3.0:\n",
      "      Successfully uninstalled Keras-2.3.0\n",
      "\u001b[31mERROR: pip's dependency resolver does not currently take into account all the packages that are installed. This behaviour is the source of the following dependency conflicts.\n",
      "pytest-astropy 0.8.0 requires pytest-cov>=2.0, which is not installed.\n",
      "pytest-astropy 0.8.0 requires pytest-filter-subpackage>=0.1, which is not installed.\u001b[0m\n",
      "Successfully installed bleach-1.5.0 easydict-1.9 enum34-1.1.10 graphviz-0.8.4 html5lib-0.9999999 iniconfig-1.1.1 keras-2.2.0 keras-applications-1.0.2 keras-preprocessing-1.0.1 mxnet-cu100-1.7.0 networkx-2.5 opencv-python-3.4.1.15 pandas-0.23.4 pillow-5.0.0 py-1.10.0 pydicom-1.2.0 pytest-6.2.1 scikit-image-0.14.1 scikit-learn-0.20.0 scipy-1.1.0 tensorflow-gpu-1.4.0 tensorflow-tensorboard-0.4.0 toposort-1.6\n",
      "\u001b[33mWARNING: You are using pip version 20.3; however, version 20.3.3 is available.\n",
      "You should consider upgrading via the '/home/ec2-user/anaconda3/envs/tensorflow2_p36/bin/python -m pip install --upgrade pip' command.\u001b[0m\n"
     ]
    }
   ],
   "metadata": {}
  },
  {
   "cell_type": "code",
   "execution_count": 6,
   "source": [
    "import json\n",
    "# import torch\n",
    "import tarfile\n",
    "import pickle\n",
    "import matplotlib.pyplot as plt\n",
    "# import torchvision as tv\n",
    "import pathlib                          # Path management tool (standard library)\n",
    "import subprocess                       # Runs shell commands via Python (standard library)\n",
    "import sagemaker                        # SageMaker Python SDK\n",
    "# from sagemaker.pytorch import PyTorch   # PyTorch Estimator for TensorFlow"
   ],
   "outputs": [],
   "metadata": {}
  },
  {
   "cell_type": "markdown",
   "source": [
    "## Data processing"
   ],
   "metadata": {}
  },
  {
   "cell_type": "code",
   "execution_count": 8,
   "source": [
    "# import os, sys\n",
    "# os.chdir(\"/home/ec2-user/SageMaker/PneumoniaRSNA1\")\n",
    "# # sys.path.append(\"/home/ec2-user/SageMaker/HaemorrhageRSNA19\")\n",
    "\n",
    "# !sh /home/ec2-user/SageMaker/PneumoniaRSNA1/prepare_data.sh\n",
    "\n",
    "# os.chdir(\"/home/ec2-user/SageMaker\")"
   ],
   "outputs": [],
   "metadata": {}
  },
  {
   "cell_type": "markdown",
   "source": [
    "### Downloading trained models, contains codes, model weights, and pretrained models"
   ],
   "metadata": {}
  },
  {
   "cell_type": "code",
   "execution_count": 12,
   "source": [
    "# !wget --no-check-certificate -r 'https://docs.google.com/uc?export=download&id=12abFXy7-FOwoKxFSJ__IbOGm9oQDU7CQ' -O /home/ec2-user/SageMaker/PneumoniaRSNA1/models.tar.gz"
   ],
   "outputs": [],
   "metadata": {}
  },
  {
   "cell_type": "markdown",
   "source": [
    "### if not models.tar.gz: download pretarined models here"
   ],
   "metadata": {}
  },
  {
   "cell_type": "code",
   "execution_count": 11,
   "source": [
    "# !wget --no-check-certificate -r 'https://docs.google.com/uc?export=download&id=1rI_WSlot6ZNa_ERdLSCsGquUXEK_ikYb' -O /home/ec2-user/SageMaker/PneumoniaRSNA1/pretrained.zip"
   ],
   "outputs": [],
   "metadata": {}
  },
  {
   "cell_type": "code",
   "execution_count": 18,
   "source": [
    "# !tar -xvzf /home/ec2-user/SageMaker/PneumoniaRSNA1/models.tar.gz -C /home/ec2-user/SageMaker/PneumoniaRSNA1/model_ckpt"
   ],
   "outputs": [],
   "metadata": {}
  },
  {
   "cell_type": "code",
   "execution_count": 19,
   "source": [
    "# !unzip -o -q /home/ec2-user/SageMaker/PneumoniaRSNA1/pretrained.zip -d /home/ec2-user/SageMaker/PneumoniaRSNA1/models/pretrained  #-q for quitely no verbose"
   ],
   "outputs": [],
   "metadata": {}
  },
  {
   "cell_type": "markdown",
   "source": [
    "## Training the simple model\n",
    "### adding some modules to path"
   ],
   "metadata": {}
  },
  {
   "cell_type": "code",
   "execution_count": 7,
   "source": [
    "import sys\n",
    "sys.path.append(\"/home/ec2-user/SageMaker/PneumoniaRSNA1/models\")\n",
    "sys.path.append(\"/home/ec2-user/SageMaker/PneumoniaRSNA1/models/RelationNetworks\")\n",
    "sys.path.append(\"/home/ec2-user/SageMaker/PneumoniaRSNA1/models/DeformableConvNets\")\n",
    "sys.path.append(\"/home/ec2-user/SageMaker/PneumoniaRSNA1/models/RetinaNet\")\n",
    "sys.path.append(\"/home/ec2-user/SageMaker/PneumoniaRSNA1/src/etl\")\n",
    "sys.path.append(\"/home/ec2-user/SageMaker/PneumoniaRSNA1/src/GrayscaleModules\")\n",
    "sys.path.append(\"/home/ec2-user/SageMaker/PneumoniaRSNA1/src/infer\")\n",
    "sys.path.append(\"/home/ec2-user/SageMaker/PneumoniaRSNA1/src/train\")\n",
    "print(sys.path)"
   ],
   "outputs": [
    {
     "output_type": "stream",
     "name": "stdout",
     "text": [
      "['', '/home/ec2-user/anaconda3/envs/tensorflow2_p36/lib/python36.zip', '/home/ec2-user/anaconda3/envs/tensorflow2_p36/lib/python3.6', '/home/ec2-user/anaconda3/envs/tensorflow2_p36/lib/python3.6/lib-dynload', '/home/ec2-user/anaconda3/envs/tensorflow2_p36/lib/python3.6/site-packages', '/home/ec2-user/anaconda3/envs/tensorflow2_p36/lib/python3.6/site-packages/IPython/extensions', '/home/ec2-user/.ipython', '/home/ec2-user/SageMaker/PneumoniaRSNA1/models', '/home/ec2-user/SageMaker/PneumoniaRSNA1/models/RelationNetworks', '/home/ec2-user/SageMaker/PneumoniaRSNA1/models/DeformableConvNets', '/home/ec2-user/SageMaker/PneumoniaRSNA1/models/RetinaNet', '/home/ec2-user/SageMaker/PneumoniaRSNA1/src/etl', '/home/ec2-user/SageMaker/PneumoniaRSNA1/src/GrayscaleModules', '/home/ec2-user/SageMaker/PneumoniaRSNA1/src/infer', '/home/ec2-user/SageMaker/PneumoniaRSNA1/src/train']\n"
     ]
    }
   ],
   "metadata": {}
  },
  {
   "cell_type": "code",
   "execution_count": 8,
   "source": [
    "# !pip uninstall tensorflow protobuf --yes\n",
    "# !find $CONDA_PREFIX -name \"tensorflow\" | xargs -Ipkg rm -rfv pkg\n",
    "# !pip install --ignore-installed --upgrade https://storage.googleapis.com/tensorflow/linux/cpu/tensorflow-1.9.0-cp36-cp36m-linux_x86_64.whl --no-cache-dir\n"
   ],
   "outputs": [],
   "metadata": {}
  },
  {
   "cell_type": "code",
   "execution_count": 9,
   "source": [
    "import os\n",
    "os.chdir(\"/home/ec2-user/SageMaker/PneumoniaRSNA1\")\n",
    "\n",
    "# !sh /home/ec2-user/SageMaker/PneumoniaRSNA1/train_simple.sh\n",
    "!python src/train/TrainOneClassifier.py\n",
    "\n",
    "os.chdir(\"/home/ec2-user/SageMaker\")"
   ],
   "outputs": [
    {
     "output_type": "stream",
     "name": "stdout",
     "text": [
      "Traceback (most recent call last):\n",
      "  File \"/home/ec2-user/anaconda3/envs/tensorflow2_p36/lib/python3.6/site-packages/tensorflow/python/pywrap_tensorflow.py\", line 58, in <module>\n",
      "    from tensorflow.python.pywrap_tensorflow_internal import *\n",
      "  File \"/home/ec2-user/anaconda3/envs/tensorflow2_p36/lib/python3.6/site-packages/tensorflow/python/pywrap_tensorflow_internal.py\", line 28, in <module>\n",
      "    _pywrap_tensorflow_internal = swig_import_helper()\n",
      "  File \"/home/ec2-user/anaconda3/envs/tensorflow2_p36/lib/python3.6/site-packages/tensorflow/python/pywrap_tensorflow_internal.py\", line 24, in swig_import_helper\n",
      "    _mod = imp.load_module('_pywrap_tensorflow_internal', fp, pathname, description)\n",
      "  File \"/home/ec2-user/anaconda3/envs/tensorflow2_p36/lib/python3.6/imp.py\", line 243, in load_module\n",
      "    return load_dynamic(name, filename, file)\n",
      "  File \"/home/ec2-user/anaconda3/envs/tensorflow2_p36/lib/python3.6/imp.py\", line 343, in load_dynamic\n",
      "    return _load(spec)\n",
      "ImportError: libcublas.so.8.0: cannot open shared object file: No such file or directory\n",
      "\n",
      "During handling of the above exception, another exception occurred:\n",
      "\n",
      "Traceback (most recent call last):\n",
      "  File \"src/train/TrainOneClassifier.py\", line 8, in <module>\n",
      "    import tensorflow as tf\n",
      "  File \"/home/ec2-user/anaconda3/envs/tensorflow2_p36/lib/python3.6/site-packages/tensorflow/__init__.py\", line 24, in <module>\n",
      "    from tensorflow.python import *\n",
      "  File \"/home/ec2-user/anaconda3/envs/tensorflow2_p36/lib/python3.6/site-packages/tensorflow/python/__init__.py\", line 49, in <module>\n",
      "    from tensorflow.python import pywrap_tensorflow\n",
      "  File \"/home/ec2-user/anaconda3/envs/tensorflow2_p36/lib/python3.6/site-packages/tensorflow/python/pywrap_tensorflow.py\", line 72, in <module>\n",
      "    raise ImportError(msg)\n",
      "ImportError: Traceback (most recent call last):\n",
      "  File \"/home/ec2-user/anaconda3/envs/tensorflow2_p36/lib/python3.6/site-packages/tensorflow/python/pywrap_tensorflow.py\", line 58, in <module>\n",
      "    from tensorflow.python.pywrap_tensorflow_internal import *\n",
      "  File \"/home/ec2-user/anaconda3/envs/tensorflow2_p36/lib/python3.6/site-packages/tensorflow/python/pywrap_tensorflow_internal.py\", line 28, in <module>\n",
      "    _pywrap_tensorflow_internal = swig_import_helper()\n",
      "  File \"/home/ec2-user/anaconda3/envs/tensorflow2_p36/lib/python3.6/site-packages/tensorflow/python/pywrap_tensorflow_internal.py\", line 24, in swig_import_helper\n",
      "    _mod = imp.load_module('_pywrap_tensorflow_internal', fp, pathname, description)\n",
      "  File \"/home/ec2-user/anaconda3/envs/tensorflow2_p36/lib/python3.6/imp.py\", line 243, in load_module\n",
      "    return load_dynamic(name, filename, file)\n",
      "  File \"/home/ec2-user/anaconda3/envs/tensorflow2_p36/lib/python3.6/imp.py\", line 343, in load_dynamic\n",
      "    return _load(spec)\n",
      "ImportError: libcublas.so.8.0: cannot open shared object file: No such file or directory\n",
      "\n",
      "\n",
      "Failed to load the native TensorFlow runtime.\n",
      "\n",
      "See https://www.tensorflow.org/install/install_sources#common_installation_problems\n",
      "\n",
      "for some common reasons and solutions.  Include the entire stack trace\n",
      "above this error message when asking for help.\n"
     ]
    }
   ],
   "metadata": {}
  },
  {
   "cell_type": "markdown",
   "source": [
    "## Generating predictions for challenge data 1/2 (Dmytro's models)\n",
    "### Run the following set of commands for folds 0-4:"
   ],
   "metadata": {}
  },
  {
   "cell_type": "code",
   "execution_count": null,
   "source": [
    "# Stage 1 models out-of-fold predictions\n",
    "!python /home/ec2-user/SageMaker/rsna19/models/clf2D/predict.py predict_oof --model resnet18_400 --epoch 6 --fold 0 --mode all\n",
    "# !python /home/ec2-user/SageMaker/rsna19/models/clf2D/predict.py predict_oof --model resnet34_400_5_planes_combine_last_var_dr0 --epoch 7 --fold 0 --mode all\n",
    "# !python /home/ec2-user/SageMaker/rsna19/models/clf3D/predict.py predict_oof --model dpn68_384_5_planes_combine_last --epoch 72 --fold 0 --mode all\n",
    "# !python /home/ec2-user/SageMaker/rsna19/models/clf2D/predict.py predict_oof --model resnet18_384_5_planes_bn_f8 --epoch 6 --fold 0 --mode all\n",
    "# !python /home/ec2-user/SageMaker/rsna19/models/clf2D/predict.py predict_oof --model airnet50_384 --epoch 6 --fold 0 --mode all\n",
    "\n",
    "# Stage 1 models test predictions\n",
    "!python /home/ec2-user/SageMaker/rsna19/models/clf2D/predict.py predict_test --model resnet18_400 --epoch 6 --fold 0 --mode all\n",
    "# !python /home/ec2-user/SageMaker/rsna19/models/clf2D/predict.py predict_test --model resnet34_400_5_planes_combine_last_var_dr0 --epoch 7 --fold 0 --mode all\n",
    "# !python /home/ec2-user/SageMaker/rsna19/models/clf3D/predict.py predict_test --model dpn68_384_5_planes_combine_last --epoch 72 --fold 0 --mode all\n",
    "# !python /home/ec2-user/SageMaker/rsna19/models/clf2D/predict.py predict_test --model resnet18_384_5_planes_bn_f8 --epoch 6 --fold 0 --mode all\n",
    "# !python /home/ec2-user/SageMaker/rsna19/models/clf2D/predict.py predict_test --model airnet50_384 --epoch 6 --fold 0 --mode all\n",
    "\n",
    "# # Stage 2 models out-of-fold predictions\n",
    "# !python /home/ec2-user/SageMaker/rsna19/models/clf2D/predict.py predict_oof --model se_preresnext26b_400 --epoch 6 --fold 0 --mode all\n",
    "# !python /home/ec2-user/SageMaker/rsna19/models/clf2D/predict.py predict_oof --model resnext50_400 --epoch 6 --fold 0 --mode all\n",
    "\n",
    "# # Stage 2 models test predictions\n",
    "# !python /home/ec2-user/SageMaker/rsna19/models/clf2D/predict.py predict_test --model se_preresnext26b_400 --epoch 6 --fold 0 --mode all\n",
    "# !python /home/ec2-user/SageMaker/rsna19/models/clf2D/predict.py predict_test --model resnext50_400 --epoch 6 --fold 0 --mode all"
   ],
   "outputs": [],
   "metadata": {}
  }
 ],
 "metadata": {
  "kernelspec": {
   "display_name": "conda_tensorflow2_p36",
   "language": "python",
   "name": "conda_tensorflow2_p36"
  },
  "language_info": {
   "codemirror_mode": {
    "name": "ipython",
    "version": 3
   },
   "file_extension": ".py",
   "mimetype": "text/x-python",
   "name": "python",
   "nbconvert_exporter": "python",
   "pygments_lexer": "ipython3",
   "version": "3.6.10"
  }
 },
 "nbformat": 4,
 "nbformat_minor": 4
}