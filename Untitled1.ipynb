{
 "cells": [
  {
   "cell_type": "code",
   "execution_count": 2,
   "source": [
    "import pandas as pd\r\n",
    "import os\r\n",
    "from tqdm import tqdm\r\n",
    "\r\n",
    "\r\n",
    "# df1 = pd.read_csv('/home/ec2-user/SageMaker/Haemorrhage_dataset/df_train-20000.csv')\r\n",
    "# print(\"df1.size:\", df1.size)\r\n",
    "\r\n",
    "for i in tqdm(range(20001, 740050)):\r\n",
    "    if i % 20000 == 0:\r\n",
    "        DF_CSV_PATH_OUT = os.path.join('/home/ec2-user/SageMaker/Haemorrhage_dataset', f'df_train-{str(i)}.csv')\r\n",
    "        if os.path.exists(DF_CSV_PATH_OUT):\r\n",
    "            os.remove(DF_CSV_PATH_OUT)\r\n",
    "        else:\r\n",
    "            print(\"The file does not exist\")\r\n",
    "#         df2 = pd.read_csv(DF_CSV_PATH_OUT)\r\n",
    "#         df1 = pd.concat([df1, df2], axis=0)\r\n",
    "#         print(\"df1.size:\", df1.size, \"DF_CSV_PATH_OUT\", DF_CSV_PATH_OUT)\r\n",
    "# del df2"
   ],
   "outputs": [
    {
     "output_type": "stream",
     "name": "stderr",
     "text": [
      "100%|██████████| 720049/720049 [00:00<00:00, 1579632.65it/s]\n"
     ]
    }
   ],
   "metadata": {}
  },
  {
   "cell_type": "code",
   "execution_count": 3,
   "source": [
    "!pip install pydicom"
   ],
   "outputs": [
    {
     "output_type": "stream",
     "name": "stdout",
     "text": [
      "Collecting pydicom\n",
      "  Downloading pydicom-2.1.2-py3-none-any.whl (1.9 MB)\n",
      "\u001b[K     |████████████████████████████████| 1.9 MB 13.5 MB/s eta 0:00:01\n",
      "\u001b[?25hInstalling collected packages: pydicom\n",
      "Successfully installed pydicom-2.1.2\n",
      "\u001b[33mWARNING: You are using pip version 20.3; however, version 20.3.3 is available.\n",
      "You should consider upgrading via the '/home/ec2-user/anaconda3/envs/pytorch_latest_p36/bin/python -m pip install --upgrade pip' command.\u001b[0m\n"
     ]
    }
   ],
   "metadata": {}
  },
  {
   "cell_type": "code",
   "execution_count": 8,
   "source": [
    "import pickle\r\n",
    "\r\n",
    "# with open('/home/ec2-user/SageMaker/Haemorrhage_dataset/df_train.pkl', 'rb') as f:\r\n",
    "#     df_train = pickle.load(f)\r\n",
    "#     print(\"df_train.size:\", df_train.size)\r\n",
    "    \r\n",
    "\r\n",
    "with open('/home/ec2-user/SageMaker/Haemorrhage_dataset/df.pkl', 'rb') as f:\r\n",
    "    df_test = pickle.load(f)\r\n",
    "    print(\"df_test.size:\", df_test.size)\r\n",
    "    \r\n",
    "df_train = pd.read_csv('/home/ec2-user/SageMaker/Haemorrhage_dataset/df_train.csv')\r\n",
    "print('df2_last', df_train.size)\r\n",
    "\r\n"
   ],
   "outputs": [
    {
     "output_type": "stream",
     "name": "stdout",
     "text": [
      "df_test.size: 124522805\n",
      "df2_last 124522805\n"
     ]
    }
   ],
   "metadata": {}
  },
  {
   "cell_type": "code",
   "execution_count": 5,
   "source": [
    "# concatenating all the files together'\r\n",
    "\r\n",
    "df1 = pd.concat([df1, df_train, df_test], axis=0)\r\n",
    "print(\"Creating pandas dataframe,  final dataframe size including train and test dataframes: \", df1.size)\r\n",
    "\r\n",
    "\r\n",
    "df1.to_csv('/home/ec2-user/SageMaker/Haemorrhage_dataset/df_train.csv', index=False)"
   ],
   "outputs": [
    {
     "output_type": "stream",
     "name": "stdout",
     "text": [
      "Creating pandas dataframe,  final dataframe size including train and test dataframes:  124522805\n"
     ]
    }
   ],
   "metadata": {}
  },
  {
   "cell_type": "code",
   "execution_count": 7,
   "source": [
    "# del df_train, df_test\r\n",
    "with open('/home/ec2-user/SageMaker/Haemorrhage_dataset/df.pkl', 'wb') as f:\r\n",
    "    pickle.dump(df1, f)"
   ],
   "outputs": [],
   "metadata": {}
  },
  {
   "cell_type": "code",
   "execution_count": 1,
   "source": [
    "!pip install py7zr"
   ],
   "outputs": [
    {
     "output_type": "stream",
     "name": "stdout",
     "text": [
      "Collecting py7zr\n",
      "  Downloading py7zr-0.11.1-py3-none-any.whl (63 kB)\n",
      "\u001b[K     |████████████████████████████████| 63 kB 3.1 MB/s  eta 0:00:01\n",
      "\u001b[?25hRequirement already satisfied: importlib-metadata in /home/ec2-user/anaconda3/envs/pytorch_latest_p36/lib/python3.6/site-packages (from py7zr) (3.1.0)\n",
      "Requirement already satisfied: texttable in /home/ec2-user/anaconda3/envs/pytorch_latest_p36/lib/python3.6/site-packages (from py7zr) (1.6.3)\n",
      "Requirement already satisfied: zipp>=0.5 in /home/ec2-user/anaconda3/envs/pytorch_latest_p36/lib/python3.6/site-packages (from importlib-metadata->py7zr) (3.4.0)\n",
      "Collecting pycryptodome\n",
      "  Downloading pycryptodome-3.9.9-cp36-cp36m-manylinux1_x86_64.whl (13.7 MB)\n",
      "\u001b[K     |████████████████████████████████| 13.7 MB 21.1 MB/s eta 0:00:01\n",
      "\u001b[?25hInstalling collected packages: pycryptodome, py7zr\n",
      "Successfully installed py7zr-0.11.1 pycryptodome-3.9.9\n",
      "\u001b[33mWARNING: You are using pip version 20.3; however, version 20.3.3 is available.\n",
      "You should consider upgrading via the '/home/ec2-user/anaconda3/envs/pytorch_latest_p36/bin/python -m pip install --upgrade pip' command.\u001b[0m\n"
     ]
    }
   ],
   "metadata": {}
  },
  {
   "cell_type": "code",
   "execution_count": null,
   "source": [
    "import py7zr\r\n",
    "\r\n",
    "with py7zr.SevenZipFile('CervicalCancer_dataset.7z', 'w') as archive:\r\n",
    "    archive.writeall('/home/ec2-user/SageMaker/CervicalCancer_dataset', 'base')"
   ],
   "outputs": [],
   "metadata": {}
  },
  {
   "cell_type": "code",
   "execution_count": null,
   "source": [],
   "outputs": [],
   "metadata": {}
  }
 ],
 "metadata": {
  "kernelspec": {
   "display_name": "conda_pytorch_latest_p36",
   "language": "python",
   "name": "conda_pytorch_latest_p36"
  },
  "language_info": {
   "codemirror_mode": {
    "name": "ipython",
    "version": 3
   },
   "file_extension": ".py",
   "mimetype": "text/x-python",
   "name": "python",
   "nbconvert_exporter": "python",
   "pygments_lexer": "ipython3",
   "version": "3.6.10"
  }
 },
 "nbformat": 4,
 "nbformat_minor": 4
}